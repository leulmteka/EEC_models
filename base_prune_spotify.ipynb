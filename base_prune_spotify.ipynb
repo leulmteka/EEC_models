{
  "cells": [
    {
      "cell_type": "markdown",
      "metadata": {
        "id": "IPd72xYYu-vx"
      },
      "source": [
        "# Neural Network Pruning for Spotify Track Popularity Prediction"
      ]
    },
    {
      "cell_type": "markdown",
      "metadata": {
        "id": "hXcb_qSXu-vy"
      },
      "source": [
        "## Objective\n",
        "Train a neural network to predict Spotify track popularity, prune it by reducing neurons, and compare performance before and after pruning."
      ]
    },
    {
      "cell_type": "markdown",
      "metadata": {
        "id": "B6PvKkAgu-vy"
      },
      "source": [
        "## Setup"
      ]
    },
    {
      "cell_type": "code",
      "execution_count": null,
      "metadata": {
        "id": "J-IPVNE1u-vy"
      },
      "outputs": [],
      "source": [
        "import numpy as np\n",
        "import pandas as pd\n",
        "from sklearn.model_selection import train_test_split\n",
        "from sklearn.preprocessing import StandardScaler\n",
        "from sklearn.neural_network import MLPRegressor\n",
        "from sklearn.metrics import mean_squared_error, r2_score\n",
        "import matplotlib.pyplot as plt\n",
        "import kagglehub\n",
        "import os"
      ]
    },
    {
      "cell_type": "markdown",
      "metadata": {
        "id": "ECPYSl9Au-vz"
      },
      "source": [
        "## Load and Preprocess Data"
      ]
    },
    {
      "cell_type": "code",
      "execution_count": null,
      "metadata": {
        "id": "jaFfz_eXu-vz"
      },
      "outputs": [],
      "source": [
        "# Download dataset\n",
        "path = kagglehub.dataset_download(\"joebeachcapital/30000-spotify-songs\")\n",
        "path = os.path.join(path, \"spotify_songs.csv\")\n",
        "\n",
        "# Load data\n",
        "df = pd.read_csv(path)\n",
        "\n",
        "# Select numerical features and target\n",
        "features = ['danceability', 'energy', 'key', 'loudness', 'mode', 'speechiness',\n",
        "            'acousticness', 'instrumentalness', 'liveness', 'valence', 'tempo', 'duration_ms']\n",
        "X = df[features]\n",
        "y = df['track_popularity']\n",
        "\n",
        "# Handle missing values\n",
        "X = X.fillna(X.mean())\n",
        "\n",
        "# Split data\n",
        "X_train, X_test, y_train, y_test = train_test_split(X, y, test_size=0.2, random_state=42)\n",
        "\n",
        "# Scale features\n",
        "scaler = StandardScaler()\n",
        "X_train_scaled = scaler.fit_transform(X_train)\n",
        "X_test_scaled = scaler.transform(X_test)"
      ]
    },
    {
      "cell_type": "markdown",
      "metadata": {
        "id": "hwbCGyG3u-vz"
      },
      "source": [
        "## Neural Network Before Pruning"
      ]
    },
    {
      "cell_type": "code",
      "execution_count": null,
      "metadata": {
        "id": "2ACH4OoHu-vz"
      },
      "outputs": [],
      "source": [
        "# Define and train the original model\n",
        "mlp_original = MLPRegressor(hidden_layer_sizes=(100, 50), activation='relu', solver='adam',\n",
        "                            max_iter=500, random_state=42, verbose=False)\n",
        "mlp_original.fit(X_train_scaled, y_train)\n",
        "\n",
        "# Predict and evaluate\n",
        "y_pred_original = mlp_original.predict(X_test_scaled)\n",
        "mse_original = mean_squared_error(y_test, y_pred_original)\n",
        "r2_original = r2_score(y_test, y_pred_original)\n",
        "\n",
        "# Calculate number of parameters\n",
        "n_params_original = (X_train.shape[1] * 100 + 100) + (100 * 50 + 50) + (50 * 1 + 1)\n",
        "\n",
        "print('Original Model:')\n",
        "print(f'MSE: {mse_original:.2f}')\n",
        "print(f'R²: {r2_original:.2f}')\n",
        "print(f'Number of Parameters: {n_params_original}')"
      ]
    },
    {
      "cell_type": "markdown",
      "metadata": {
        "id": "bKJzcLJyu-vz"
      },
      "source": [
        "## Neural Network After Pruning"
      ]
    },
    {
      "cell_type": "code",
      "execution_count": null,
      "metadata": {
        "id": "GzgFF-Gju-vz"
      },
      "outputs": [],
      "source": [
        "# Define and train the pruned model (reduced neurons)\n",
        "mlp_pruned = MLPRegressor(hidden_layer_sizes=(50, 25), activation='relu', solver='adam',\n",
        "                          max_iter=500, random_state=42, verbose=False)\n",
        "mlp_pruned.fit(X_train_scaled, y_train)\n",
        "\n",
        "# Predict and evaluate\n",
        "y_pred_pruned = mlp_pruned.predict(X_test_scaled)\n",
        "mse_pruned = mean_squared_error(y_test, y_pred_pruned)\n",
        "r2_pruned = r2_score(y_test, y_pred_pruned)\n",
        "\n",
        "# Calculate number of parameters\n",
        "n_params_pruned = (X_train.shape[1] * 50 + 50) + (50 * 25 + 25) + (25 * 1 + 1)\n",
        "\n",
        "print('Pruned Model:')\n",
        "print(f'MSE: {mse_pruned:.2f}')\n",
        "print(f'R²: {r2_pruned:.2f}')\n",
        "print(f'Number of Parameters: {n_params_pruned}')"
      ]
    },
    {
      "cell_type": "markdown",
      "metadata": {
        "id": "HS0-h3V4u-v0"
      },
      "source": [
        "## Comparison and Visualization"
      ]
    },
    {
      "cell_type": "code",
      "execution_count": null,
      "metadata": {
        "id": "eazNB3hCu-v0"
      },
      "outputs": [],
      "source": [
        "# Compare results\n",
        "print('\\nComparison:')\n",
        "print(f'MSE Difference (Original - Pruned): {mse_original - mse_pruned:.2f}')\n",
        "print(f'R² Difference (Original - Pruned): {r2_original - r2_pruned:.2f}')\n",
        "print(f'Parameter Reduction: {n_params_original - n_params_pruned} ({((n_params_original - n_params_pruned) / n_params_original * 100):.2f}%)')\n",
        "\n",
        "# Plot predictions vs actual\n",
        "plt.figure(figsize=(10, 5))\n",
        "\n",
        "plt.subplot(1, 2, 1)\n",
        "plt.scatter(y_test, y_pred_original, alpha=0.5)\n",
        "plt.plot([0, 100], [0, 100], 'r--')\n",
        "plt.title('Original Model Predictions')\n",
        "plt.xlabel('Actual Popularity')\n",
        "plt.ylabel('Predicted Popularity')\n",
        "\n",
        "plt.subplot(1, 2, 2)\n",
        "plt.scatter(y_test, y_pred_pruned, alpha=0.5)\n",
        "plt.plot([0, 100], [0, 100], 'r--')\n",
        "plt.title('Pruned Model Predictions')\n",
        "plt.xlabel('Actual Popularity')\n",
        "plt.ylabel('Predicted Popularity')\n",
        "\n",
        "plt.tight_layout()\n",
        "plt.show()\n",
        "\n",
        "# Bar plot for metrics\n",
        "metrics = ['MSE', 'R²', 'Parameters']\n",
        "original_values = [mse_original, r2_original, n_params_original]\n",
        "pruned_values = [mse_pruned, r2_pruned, n_params_pruned]\n",
        "\n",
        "x = np.arange(len(metrics))\n",
        "width = 0.35\n",
        "\n",
        "fig, ax = plt.subplots(figsize=(8, 5))\n",
        "ax.bar(x - width/2, original_values, width, label='Original')\n",
        "ax.bar(x + width/2, pruned_values, width, label='Pruned')\n",
        "\n",
        "ax.set_ylabel('Value')\n",
        "ax.set_title('Model Comparison')\n",
        "ax.set_xticks(x)\n",
        "ax.set_xticklabels(metrics)\n",
        "ax.legend()\n",
        "\n",
        "# Normalize parameters for better visualization\n",
        "ax2 = ax.twinx()\n",
        "ax2.set_ylabel('Parameters')\n",
        "ax2.set_ylim(0, max(n_params_original, n_params_pruned) * 1.1)\n",
        "\n",
        "plt.show()"
      ]
    },
    {
      "cell_type": "markdown",
      "metadata": {
        "id": "L5TNqjl7u-v0"
      },
      "source": [
        "## Conclusion\n",
        "The pruned model has fewer parameters, reducing computational complexity. If the MSE and R² are similar, pruning is beneficial for efficiency without significant performance loss. If performance degrades significantly, the original model may be preferred for better accuracy."
      ]
    }
  ],
  "metadata": {
    "kernelspec": {
      "display_name": "Python 3",
      "language": "python",
      "name": "python3"
    },
    "language_info": {
      "codemirror_mode": {
        "name": "ipython",
        "version": 3
      },
      "file_extension": ".py",
      "mimetype": "text/x-python",
      "name": "python",
      "nbconvert_exporter": "python",
      "pygments_lexer": "ipython3",
      "version": "3.12.7"
    },
    "colab": {
      "provenance": []
    }
  },
  "nbformat": 4,
  "nbformat_minor": 0
}